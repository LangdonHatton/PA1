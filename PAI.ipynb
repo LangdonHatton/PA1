{
 "cells": [
  {
   "cell_type": "markdown",
   "id": "d1aa5817",
   "metadata": {},
   "source": [
    "# Programming assignment 1\n",
    "### Langdon Hatton\n"
   ]
  },
  {
   "cell_type": "code",
   "execution_count": 16,
   "id": "c8061cd0",
   "metadata": {},
   "outputs": [
    {
     "name": "stdout",
     "output_type": "stream",
     "text": [
      "Enter a floating number 5.1\n",
      "Enter an integer 6\n",
      "The sum is 11.1\n",
      "The difference is -0.9000000000000004\n",
      "The product is 30.599999999999998\n",
      "The quotient is 0.85\n",
      "The type for the result is <class 'float'> and <class 'int'>\n"
     ]
    }
   ],
   "source": [
    "num1=float(input('Enter a floating number '))\n",
    "num2=int(input('Enter an integer '))\n",
    "print('The sum is', num1+num2)\n",
    "print('The difference is', num1-num2)\n",
    "print('The product is' , num1*num2)\n",
    "print('The quotient is', num1/num2)\n",
    "print('The type for the result is' , type(num1) , 'and' , type(num2))\n"
   ]
  },
  {
   "cell_type": "code",
   "execution_count": null,
   "id": "abf5345b",
   "metadata": {},
   "outputs": [],
   "source": []
  }
 ],
 "metadata": {
  "kernelspec": {
   "display_name": "Python 3 (ipykernel)",
   "language": "python",
   "name": "python3"
  },
  "language_info": {
   "codemirror_mode": {
    "name": "ipython",
    "version": 3
   },
   "file_extension": ".py",
   "mimetype": "text/x-python",
   "name": "python",
   "nbconvert_exporter": "python",
   "pygments_lexer": "ipython3",
   "version": "3.9.12"
  }
 },
 "nbformat": 4,
 "nbformat_minor": 5
}
